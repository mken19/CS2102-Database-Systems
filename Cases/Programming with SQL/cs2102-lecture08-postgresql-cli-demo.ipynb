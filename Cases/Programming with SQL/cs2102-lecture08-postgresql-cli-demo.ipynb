{
 "cells": [
  {
   "cell_type": "markdown",
   "id": "df801aca",
   "metadata": {},
   "source": [
    "# PostgresSQL CLI Demo\n",
    "\n",
    "The Call Level Interface (CLI) is an interface specification that defines a standard way for applications to interact with databases. It provides a set of functions or methods that allow developers to execute SQL queries, retrieve results, and perform various database operations.\n",
    "\n",
    "The Call Level Interface is typically used in the context of programming languages and frameworks that provide direct access to databases, such as C, C++, Java, and Python. The CLI specification defines a consistent set of functions or methods that can be used across different database systems, allowing developers to write database-independent code.\n",
    "\n",
    "Some common functionalities provided by the Call Level Interface include:\n",
    "\n",
    "* **Connection Management:** The CLI provides functions to establish and manage database connections. These functions allow developers to connect to a database, authenticate, and handle connection settings.\n",
    "\n",
    "* **SQL Execution:** The CLI provides functions to execute SQL statements or queries. Developers can pass SQL queries as strings to these functions, and the database system executes them. The CLI also supports features like parameter binding and prepared statements.\n",
    "\n",
    "* **Result Set Handling:** The CLI provides functions to retrieve and process result sets returned by SQL queries. These functions allow developers to navigate through the result set, fetch rows of data, and access column values.\n",
    "\n",
    "* **Transaction Management:** The CLI supports functions to manage database transactions. Developers can begin transactions, commit changes, or roll back transactions using the provided functions.\n",
    "\n",
    "* **Error Handling:** The CLI defines functions to handle errors that occur during database operations. Developers can retrieve error information, handle exceptions, and take appropriate actions based on error codes or messages.\n",
    "\n",
    "* **Metadata Access:** The CLI provides functions to access database metadata, such as information about tables, columns, indexes, and views. Developers can query metadata to obtain information about the database schema and structure.\n",
    "\n",
    "By adhering to the CLI specification, application developers can write code that is portable across different database systems. They can reuse the same set of functions or methods, regardless of the underlying database engine, reducing the need for database-specific code and promoting code maintainability.\n",
    "\n",
    "It's important to note that the specific implementation and availability of the Call Level Interface may vary depending on the programming language, database system, and database driver or library being used.\n",
    "\n",
    "## Setting up the Notebook\n",
    "\n",
    "### Importig the Required Packages\n",
    "\n",
    "[Psycopg 3](https://www.psycopg.org/psycopg3/docs/index.html) is a newly designed PostgreSQL database adapter for the Python programming language."
   ]
  },
  {
   "cell_type": "code",
   "execution_count": 1,
   "id": "228dd9b6-f76b-4e64-b949-4134a5156f43",
   "metadata": {},
   "outputs": [],
   "source": [
    "import psycopg # Host language library (here: psycopg for Python)"
   ]
  },
  {
   "cell_type": "markdown",
   "id": "d5f6342e-68b7-49eb-99ac-c639c3f6b6ff",
   "metadata": {},
   "source": [
    "---"
   ]
  },
  {
   "cell_type": "markdown",
   "id": "efd0b367-a0f7-460e-98cc-b6dd5135157d",
   "metadata": {},
   "source": [
    "## Basic Example\n",
    "\n",
    "### Connect to Database\n",
    "\n",
    "Connecting to a database typically requires to specify the following information\n",
    "\n",
    "* the host, typically a URL (here: *localhost*)\n",
    "\n",
    "* the name of the database (here: *exampledb*)\n",
    "\n",
    "* the user (here: *demo*)\n",
    "\n",
    "* the password (here: *topsecret*)\n",
    "\n",
    "Depending on the setup, more information might be required. For eample, if PostgreSQL is not accessible view its default port 5432, then the alternative port also needs to be specified. When establishing the connection, a wide variety of configuration parameters might also be specified. Those are not needed for this not book, but you can check out the doc [here](https://www.psycopg.org/psycopg3/docs/api/connections.html) and [here](https://www.postgresql.org/docs/current/libpq-connect.html#LIBPQ-CONNSTRING).\n",
    "\n",
    "**Important:** You may need to change the code cell below to match the database name as well as the user name and password."
   ]
  },
  {
   "cell_type": "code",
   "execution_count": 4,
   "id": "ffe08dc2",
   "metadata": {},
   "outputs": [],
   "source": [
    "conn = psycopg.connect(\"host=localhost dbname=cs2102_tdfdb user=demo password=demo\")"
   ]
  },
  {
   "cell_type": "markdown",
   "id": "541031d5-7632-435d-bdc2-9e4666d386e2",
   "metadata": {},
   "source": [
    "### Create Cursor\n",
    "\n",
    "A database cursor is a database object or construct used to manage the retrieval and manipulation of query results. It provides a way to navigate through the rows returned by a database query and access the data in a controlled and sequential manner.\n",
    "\n",
    "When you execute a database query that retrieves multiple rows of data, the result set is typically returned as a cursor. The cursor acts as a pointer or iterator that allows you to traverse the rows and perform various operations on the data.\n",
    "\n",
    "Cursors provide the following functionalities:\n",
    "\n",
    "* **Iteration:** Cursors allow you to fetch rows from the result set one at a time or in batches. This enables you to process large result sets without loading all the data into memory at once.\n",
    "\n",
    "* **Navigation:** Cursors provide methods to move the current position within the result set, such as moving to the next row, previous row, or a specific row. You can also determine the current position and check if there are more rows available.\n",
    "\n",
    "* **Data Access:** Cursors provide methods to access the data in the current row. You can retrieve column values by their names or indexes and perform operations or computations on the data.\n",
    "\n",
    "* **Scrollability:** Some database cursors offer scrollable functionality, allowing you to move freely within the result set in both forward and backward directions. This can be useful when you need to navigate the result set non-sequentially or reprocess rows.\n",
    "\n",
    "* **Transaction Control:** Cursors are often associated with a specific database transaction. They can be used to control transaction behavior, such as committing changes, rolling back, or even updating the data in the result set.\n",
    "\n",
    "Cursors can be used in various programming languages and database APIs, including Python and its database interfaces like Psycopg, to manage query results. By using cursors, you can efficiently process and manipulate large datasets while maintaining control and flexibility over the retrieved data."
   ]
  },
  {
   "cell_type": "code",
   "execution_count": 5,
   "id": "bd2eabe7-1899-4739-a982-945b87e0493c",
   "metadata": {},
   "outputs": [],
   "source": [
    "# Create cursor\n",
    "cursor = conn.cursor()"
   ]
  },
  {
   "cell_type": "markdown",
   "id": "043a8d74-6c74-4ced-9651-cdcc414cda1e",
   "metadata": {},
   "source": [
    "### Execute Query\n",
    "\n",
    "When we talk about executing a database cursor to run a SQL query, it means that we are using the cursor object to send the SQL query to the database server for execution and retrieve the result set. The process typically involves the following steps:\n",
    "\n",
    "* **Execute the SQL Query:** Using the cursor object, you call a method (e.g., execute()) and pass the SQL query as a parameter. The cursor then sends the query to the database server for execution.\n",
    "\n",
    "* **Process the Result:** After the query is executed, the database server returns the result set, which can consist of one or more rows of data. The cursor object allows you to fetch and process the data from the result set. You can use methods like `fetchone()`, `fetchmany()`, or `fetchall()` to retrieve rows of data based on your requirements.\n",
    "\n",
    "Executing a database cursor to run a SQL query allows you to interact with the database, retrieve data, modify data, or perform various operations based on the query's purpose. The cursor acts as a mediator between your application and the database server, facilitating the execution and retrieval of query results."
   ]
  },
  {
   "cell_type": "code",
   "execution_count": 9,
   "id": "76cfea8c-12ab-4111-abb6-a9d1714b9254",
   "metadata": {},
   "outputs": [
    {
     "name": "stdout",
     "output_type": "stream",
     "text": [
      ">>> bib: 1, name: Jonas Vingegaard\n",
      ">>> bib: 2, name: Tiesj Benoot\n",
      ">>> bib: 3, name: Wilco Kelderman\n"
     ]
    }
   ],
   "source": [
    "# Open cursor by executing query (string parameter passed to execute() method)\n",
    "cursor.execute(\"SELECT bib, name FROM riders LIMIT 3\")\n",
    "\n",
    "# Loop over all results until no next tuple is returned\n",
    "while True:\n",
    "    row = cursor.fetchone()\n",
    "    if row is None:\n",
    "        break\n",
    "    print(f\">>> bib: {row[0]}, name: {row[1]}\")"
   ]
  },
  {
   "cell_type": "markdown",
   "id": "6130d9a8-11dd-47e2-9cb5-53ebd3e491aa",
   "metadata": {},
   "source": [
    "### Clean-Up\n",
    "\n",
    "#### Closing Cursor\n",
    "\n",
    "Closing a database cursor is an important practice for several reasons:\n",
    "\n",
    "* **Resource Management:** Database cursors are associated with server-side resources, such as network connections and memory buffers. When a cursor is open, these resources are allocated and held by the database server. Closing the cursor releases these resources, allowing them to be freed up and reused by the server. Failing to close cursors can lead to resource leaks and potential performance issues, especially when dealing with a large number of open cursors.\n",
    "\n",
    "* **Connection Pooling:** In scenarios where connection pooling is used, closing the cursor returns the connection to the pool for reuse. Connection pooling improves performance by reusing established connections instead of creating new connections for each database interaction. If cursors are not closed properly, connections may remain unavailable in the pool, leading to resource exhaustion and reduced application scalability.\n",
    "\n",
    "* **Transaction Management:** Cursors are often associated with a database transaction. Closing a cursor signifies the end of the current transaction or the scope of the cursor's operations. In some database systems, open cursors may prevent the successful completion of a transaction or cause unexpected behavior. Closing the cursor ensures that any pending transactional operations are properly completed or rolled back.\n",
    "\n",
    "* **Data Consistency:** Closing a cursor can help ensure data consistency and isolation. Depending on the database system and transaction isolation level, leaving cursors open might prevent other transactions from acquiring or modifying the same data. Closing the cursor releases locks or read consistency snapshots associated with the cursor, allowing other transactions to proceed without unnecessary delays or conflicts.\n",
    "\n",
    "* **Avoiding Errors:** If you attempt to reuse a cursor that has not been properly closed, it may lead to errors or unexpected behavior. For example, attempting to fetch data from a closed cursor can result in a \"cursor is closed\" error. Closing the cursor after you have finished working with it helps avoid such errors and ensures proper cleanup.\n",
    "\n",
    "In summary, closing a database cursor is necessary to release server-side resources, enable connection reuse, manage transactions effectively, maintain data consistency, and avoid errors. It is considered good practice to close cursors as soon as they are no longer needed to promote efficient resource utilization and reliable application behavior."
   ]
  },
  {
   "cell_type": "code",
   "execution_count": 10,
   "id": "13d66bea-bb72-41d9-8520-443ad6bc2c0f",
   "metadata": {},
   "outputs": [],
   "source": [
    "# Close cursor\n",
    "cursor.close()"
   ]
  },
  {
   "cell_type": "markdown",
   "id": "6bf859b3-8f3e-40b6-aab3-15ace4c584ed",
   "metadata": {},
   "source": [
    "#### Close Database Connection\n",
    "\n",
    "The importance of closing a database connection is very similar to closing the cursor:\n",
    "\n",
    "* **Resource Management:** Database connections require server-side resources, such as network sockets, memory buffers, and server processes. When a connection is open, these resources are allocated and held by the database server. Closing the connection releases these resources, allowing them to be freed up and reused by the server. Failing to close connections can lead to resource leaks, potentially exhausting system resources and hindering the performance of both the client and the server.\n",
    "\n",
    "* **Connection Limits:** Database servers typically have limits on the number of concurrent connections they can handle. If connections are not closed properly, it can result in reaching the connection limit, preventing new connections from being established. This can lead to connection failures for other clients trying to connect to the database.\n",
    "\n",
    "* **Connection Pooling:** In scenarios where connection pooling is used, closing the connection returns it to the pool for reuse. Connection pooling is a technique that allows reusing established connections instead of creating new connections for each database interaction. Closing connections properly ensures that they are released back to the pool, making them available for reuse by other parts of the application. This can improve performance and scalability.\n",
    "\n",
    "* **Transaction Management:** Closing a connection often implies the end of a transaction. In most database systems, when a connection is closed, any pending transactional operations are either committed or rolled back. This helps maintain data integrity and consistency, ensuring that changes made during a transaction are correctly applied to the database.\n",
    "\n",
    "* **Security:** Open database connections may pose security risks, especially if they are left unattended or unsecured. An open connection provides potential access to the database, and unauthorized or malicious activities can be performed through that connection. Closing the connection when it is no longer needed helps mitigate security risks.\n",
    "\n",
    "* **Application Stability:** Closing connections at the appropriate time helps ensure the stability and reliability of the application. Unnecessary or excessive open connections can lead to resource contention, degraded performance, or even system crashes. Properly closing connections when they are no longer needed promotes efficient resource utilization and reduces the likelihood of errors or issues caused by stale or lingering connections.\n",
    "\n",
    "In summary, closing a database connection is crucial for managing resources, maintaining connection limits, enabling connection reuse, managing transactions, ensuring security, and promoting application stability. It is considered good practice to close connections as soon as they are no longer required to optimize resource usage and maintain a healthy database environment."
   ]
  },
  {
   "cell_type": "code",
   "execution_count": 11,
   "id": "1df49c76",
   "metadata": {},
   "outputs": [],
   "source": [
    "# Close connection\n",
    "conn.close()"
   ]
  },
  {
   "cell_type": "markdown",
   "id": "907553bb-7dd1-4c15-9a3e-468e7bdd480b",
   "metadata": {},
   "source": [
    "### Compact Code Using `with`\n",
    "\n",
    "In the example code above, we explicitly closed the cursor and the database connection. That allows the reuse of the same connection or cursor multiple times; particularly reusing the same connection to execute multiple queries is quite common. However, it can be easy to forget closing a cursor or connection which might yield to performance issues or other side effects -- the reasons for closing cursors and connections above.\n",
    "\n",
    "In practice, an often cleaner way is to utilize Python's `with` statement. It is used to define a block of code that will be executed within a specific context. It is particularly useful when working with resources that need to be properly managed and cleaned up, such as file I/O, network connections, or database connections. The `with` statement helps ensure proper handling of resources and prevents resource leaks, even if an exception occurs. It simplifies the code by encapsulating the setup and cleanup logic within the context manager object associated with the resource. Common use cases of the with statement include opening and closing files, acquiring and releasing locks, connecting to and disconnecting from databases, and managing network connections. It promotes cleaner and more readable code, making it easier to manage resources and handle exceptions effectively.\n",
    "\n",
    "**Important:** You may need to change the code cell below to match the database name as well as the user name and password."
   ]
  },
  {
   "cell_type": "code",
   "execution_count": 13,
   "id": "ab35db3a-7c05-4f24-a4e3-d072bfaaad6b",
   "metadata": {},
   "outputs": [
    {
     "name": "stdout",
     "output_type": "stream",
     "text": [
      ">>> bib: 1, name: Jonas Vingegaard\n",
      ">>> bib: 2, name: Tiesj Benoot\n",
      ">>> bib: 3, name: Wilco Kelderman\n"
     ]
    }
   ],
   "source": [
    "# Connect to database\n",
    "with psycopg.connect(\"host=localhost dbname=cs2102_tdfdb user=demo password=demo\") as conn:\n",
    "    \n",
    "    # Open a cursor to perform database operations\n",
    "    with conn.cursor() as cursor:\n",
    "\n",
    "        # Open cursor by executing query (string parameter passed to execute() method)\n",
    "        cursor.execute(\"SELECT bib, name FROM riders LIMIT 3\")\n",
    "\n",
    "        # Loop over all results until no next tuple is returned\n",
    "        while True:\n",
    "            row = cursor.fetchone()\n",
    "            if row is None:\n",
    "                break\n",
    "            print(f\">>> bib: {row[0]}, name: {row[1]}\")"
   ]
  },
  {
   "cell_type": "markdown",
   "id": "48558962-33e4-4bfa-8ebd-4ec3cc53694a",
   "metadata": {},
   "source": [
    "Note that we no longer explicitly need to close the cursor and the database connection as this not handled by the `with` statement. Of course, you can still run multiple SQL statement by including them all in the outer `with` block."
   ]
  },
  {
   "cell_type": "markdown",
   "id": "a9030f21-078c-4056-b0ad-56f86382fff7",
   "metadata": {},
   "source": [
    "---"
   ]
  },
  {
   "cell_type": "markdown",
   "id": "eecab773-d822-4e23-8d26-99e7c216c620",
   "metadata": {},
   "source": [
    "## Prepared Statement Example\n",
    "\n",
    "### Motivation\n",
    "\n",
    "A prepared statement, also known as a parameterized statement or a parameterized query, is a feature provided by database systems that allows you to create SQL statements with placeholders for input parameters. The SQL statement is prepared once and then executed multiple times with different parameter values.\n",
    "\n",
    "Here's how a prepared statement typically works:\n",
    "\n",
    "* **Prepare:** The SQL statement is sent to the database server, where it is parsed, analyzed, and optimized. The database server creates an execution plan for the statement and stores it in memory. The placeholders for input parameters are also identified and associated with the statement.\n",
    "\n",
    "* **Bind:** Before executing the prepared statement, values are bound to the placeholders. The parameter values can be provided by the application or user and are typically passed separately from the SQL statement. The bound values are sent to the database server along with the prepared statement.\n",
    "\n",
    "* **Execute:** The prepared statement is executed using the bound parameter values. The database server reuses the execution plan generated during the preparation phase, allowing for efficient execution. The statement is executed as if the parameter values were directly substituted into the SQL query, but with the added benefit of avoiding SQL injection vulnerabilities.\n",
    "\n",
    "Benefits of using prepared statements include:\n",
    "\n",
    "* **Security:** Prepared statements offer protection against SQL injection attacks. Since the parameter values are treated as data rather than part of the SQL statement itself, they are automatically escaped or sanitized by the database driver. This prevents maliciously crafted input from being executed as part of the SQL statement.\n",
    "\n",
    "* **Performance:** Prepared statements can improve performance, especially when the same SQL statement is executed multiple times with different parameter values. The preparation phase, where the statement is parsed, analyzed, and optimized, is performed only once. The execution phase can then be more efficient, as the database server can reuse the execution plan without needing to repeat the entire optimization process.\n",
    "\n",
    "* **Code Maintainability:** By using prepared statements, you separate the SQL logic from the parameter values. This leads to more readable and maintainable code, as the SQL statements remain constant and the parameter values can be easily replaced or updated.\n",
    "\n",
    "* **Database Optimization:** Prepared statements enable the database server to optimize the execution plan for the SQL statement. This optimization can include caching the execution plan, reusing cached data, and optimizing index usage, leading to improved query performance.\n",
    "\n",
    "In summary, prepared statements offer security against SQL injection attacks, performance improvements through plan reuse, enhanced code maintainability, and potential database optimization. Using prepared statements is considered a best practice when working with dynamic SQL queries that involve user input or parameters.\n",
    "\n",
    "### Prepared Statements in Psycopg 3\n",
    "\n",
    "Psycopg uses an automatic system to manage prepared statements. When a query is prepared, its parsing and planning is stored in the server session, so that further executions of the same query on the same connection (even with different parameters) are optimized. In short, while there are many ways to configure and control the behavior, by default everything is handled and optimized under the hood.\n",
    "\n",
    "The code cell below, shows a simple example for a prepared statement. The prepared statement is wrapped in the method `get_riders()` to fetch all the riders from a country (specify by its 3-letter IOC country code). Note that the string in the `execute()` method is not parameterized, with the country code representing its specific value when executing the query. We also use `fetchall()` as the cursor method here to automatically fetch all result rows and store them in a Python list which also represents the return value of this method."
   ]
  },
  {
   "cell_type": "code",
   "execution_count": 14,
   "id": "586e0492-6187-476e-9224-be77e11e783a",
   "metadata": {},
   "outputs": [],
   "source": [
    "def get_riders(ioc_country_code):\n",
    "    # Connect to database\n",
    "    with psycopg.connect(\"host=localhost dbname=cs2102_tdfdb user=demo password=demo\") as conn:\n",
    "\n",
    "        # Open a cursor to perform database operations\n",
    "        with conn.cursor() as cursor:\n",
    "\n",
    "            # Open cursor by executing query (string parameter passed to execute() method)\n",
    "            cursor.execute(\"SELECT * FROM riders WHERE country = %s\", (ioc_country_code,) )\n",
    "\n",
    "            # Fetch all result rows and return as list\n",
    "            return cursor.fetchall()"
   ]
  },
  {
   "cell_type": "markdown",
   "id": "1959ae09-ccec-4436-8820-dd3f89d04e4c",
   "metadata": {},
   "source": [
    "Now we can simply run the method `get_airports()` for different country codes and print the results."
   ]
  },
  {
   "cell_type": "code",
   "execution_count": 16,
   "id": "05cb3841-9d6e-42d1-a0c7-bb8c8295ef6a",
   "metadata": {},
   "outputs": [
    {
     "name": "stdout",
     "output_type": "stream",
     "text": [
      "(1, 'Jonas Vingegaard', datetime.date(1996, 10, 12), 'DEN', 0)\n",
      "(12, 'Mikkel Bjerg', datetime.date(1998, 11, 3), 'DEN', 1)\n",
      "(45, 'Magnus Cort Nielsen', datetime.date(1993, 1, 16), 'DEN', 4)\n",
      "(52, 'Kasper Asgreen', datetime.date(1995, 2, 8), 'DEN', 5)\n",
      "(58, 'Michael Mørkøv', datetime.date(1985, 4, 30), 'DEN', 5)\n",
      "(83, 'Skjelmose Mattias Jensen', datetime.date(2000, 9, 26), 'DEN', 8)\n",
      "(86, 'Mads Pedersen', datetime.date(1995, 12, 18), 'DEN', 8)\n",
      "(105, 'Søren Kragh Andersen', datetime.date(1994, 8, 10), 'DEN', 10)\n",
      "(166, 'Juul Christopher Jensen', datetime.date(1989, 7, 6), 'DEN', 16)\n",
      "(203, 'Anthon Charmig', datetime.date(1998, 3, 25), 'DEN', 20)\n",
      "(208, 'Gregaard Jonas Wilsly', datetime.date(1996, 7, 30), 'DEN', 20)\n"
     ]
    }
   ],
   "source": [
    "for rider in get_riders('DEN'):\n",
    "    print(rider)"
   ]
  },
  {
   "cell_type": "markdown",
   "id": "fd161eff-120b-42cf-9ac9-0dff3ac6fa05",
   "metadata": {},
   "source": [
    "---"
   ]
  },
  {
   "cell_type": "markdown",
   "id": "2a71a57d-22c3-4353-953e-d4297672c39e",
   "metadata": {},
   "source": [
    "## Summary\n",
    "\n",
    "In this notebook, we covered the most basic use of a Call Level Interface (CLI) as an interface specification that defines a standard way for applications to interact with databases. More specifically, we connected to a PostgreSQL database and executed simple queries using the Python programming language and `psycopg` as the host language library.\n",
    "\n",
    "CS2102 does not focus on CLI but mainly uses it to motivate the benefits of **stored procedures and function**. However, interacting with databases using a CLI is very common in practice, so having a simple running example can be very useful. Keep in mind that this notebook indeed stuck with the very basics. For example, we only executed SELECT statements. Via the CLI, we can also execute CREATE, INSERT, UPDATE, DELETE, etc. statements. We also ignored any kind of custom transaction and error management here, which is very important for most real-world applications."
   ]
  },
  {
   "cell_type": "code",
   "execution_count": null,
   "id": "b71ab850-7c68-47cb-9d32-2afdab0066df",
   "metadata": {},
   "outputs": [],
   "source": []
  }
 ],
 "metadata": {
  "kernelspec": {
   "display_name": "Python [conda env:py39]",
   "language": "python",
   "name": "conda-env-py39-py"
  },
  "language_info": {
   "codemirror_mode": {
    "name": "ipython",
    "version": 3
   },
   "file_extension": ".py",
   "mimetype": "text/x-python",
   "name": "python",
   "nbconvert_exporter": "python",
   "pygments_lexer": "ipython3",
   "version": "3.9.16"
  }
 },
 "nbformat": 4,
 "nbformat_minor": 5
}
